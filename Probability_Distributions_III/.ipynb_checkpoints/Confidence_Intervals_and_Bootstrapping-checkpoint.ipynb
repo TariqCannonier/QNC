{
 "cells": [
  {
   "cell_type": "code",
   "execution_count": 1,
   "id": "4b057ee1",
   "metadata": {},
   "outputs": [],
   "source": [
    "import numpy as np\n",
    "from scipy.stats import sem, norm"
   ]
  },
  {
   "cell_type": "code",
   "execution_count": 2,
   "id": "2a2d0891",
   "metadata": {},
   "outputs": [],
   "source": [
    "mu = 10\n",
    "sigma = 2\n",
    "n = [ 5, 10, 20, 40, 80, 160, 1000 ]\n",
    "confidence = .95\n",
    "\n",
    "# Get random sample\n",
    "rnd_sampling = dict( n5=None, n10=None, n20=None, n40=None, n80=None, n160=None, n1000=None )\n",
    "for val, key in zip( n, rnd_sampling.keys() ):\n",
    "    rnd_sampling[ key ] = { 'sample': np.random.normal( mu, sigma, val ) }\n",
    "    rnd_sampling[ key ].update( { 'x_bar': np.mean( rnd_sampling[ key ][ 'sample' ] ),\n",
    "                            's': np.std( rnd_sampling[ key ][ 'sample' ] ),\n",
    "                            'SEM': sem( rnd_sampling[ key ][ 'sample' ] ),\n",
    "                            'ppf': norm.ppf( .95, loc=rnd_sampling[ key ][ 'x_bar' ][ 's' ] ) } ) \n",
    "                           \n",
    "    \n"
   ]
  },
  {
   "cell_type": "code",
   "execution_count": 15,
   "id": "d0fa8a15",
   "metadata": {},
   "outputs": [
    {
     "name": "stdout",
     "output_type": "stream",
     "text": [
      "26.7061967566593\n"
     ]
    }
   ],
   "source": [
    "print( norm.ppf( .95, loc=rnd_sampling[ 'n1000' ]['x_bar'], scale=rnd_sampling[ 'n1000' ][ 's' ] ) * rnd_sampling['n1000']['s'])\n",
    "# print( rnd_sampling['n1000']['SEM'] )"
   ]
  },
  {
   "cell_type": "markdown",
   "id": "a50a4553",
   "metadata": {},
   "source": [
    "# 1) Analytic Approach"
   ]
  },
  {
   "cell_type": "code",
   "execution_count": null,
   "id": "2e2caef3",
   "metadata": {},
   "outputs": [],
   "source": []
  },
  {
   "cell_type": "markdown",
   "id": "47825cac",
   "metadata": {},
   "source": [
    "# 2) Simple Analytic Approach with small sample"
   ]
  },
  {
   "cell_type": "markdown",
   "id": "47e68614",
   "metadata": {},
   "source": [
    "# 3) Bootstrapped Method"
   ]
  },
  {
   "cell_type": "markdown",
   "id": "d422042f",
   "metadata": {},
   "source": [
    "# 4) Bayesian Credible Interval"
   ]
  }
 ],
 "metadata": {
  "kernelspec": {
   "display_name": "Python 3 (ipykernel)",
   "language": "python",
   "name": "python3"
  },
  "language_info": {
   "codemirror_mode": {
    "name": "ipython",
    "version": 3
   },
   "file_extension": ".py",
   "mimetype": "text/x-python",
   "name": "python",
   "nbconvert_exporter": "python",
   "pygments_lexer": "ipython3",
   "version": "3.10.2"
  }
 },
 "nbformat": 4,
 "nbformat_minor": 5
}
