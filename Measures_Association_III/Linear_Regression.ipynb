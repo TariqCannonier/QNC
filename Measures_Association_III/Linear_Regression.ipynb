{
 "cells": [
  {
   "cell_type": "code",
   "execution_count": 89,
   "id": "4e7edea6",
   "metadata": {},
   "outputs": [],
   "source": [
    "import numpy as np\n",
    "import matplotlib.pyplot as plt\n",
    "import seaborn as sbn\n",
    "import statistics\n",
    "import scipy.stats as st"
   ]
  },
  {
   "cell_type": "code",
   "execution_count": 120,
   "id": "bef0c6ac",
   "metadata": {},
   "outputs": [
    {
     "name": "stdout",
     "output_type": "stream",
     "text": [
      "We can reject the null hypothesis because b is > 0. (b=0.2647)\n",
      "The coefficient of deterimination is: 0.9973\n",
      "The Pearson's R is: 0.9815\n"
     ]
    },
    {
     "data": {
      "image/png": "[encoded data removed]",
      "text/plain": [
       "<Figure size 432x288 with 1 Axes>"
      ]
     },
     "metadata": {
      "needs_background": "light"
     },
     "output_type": "display_data"
    }
   ],
   "source": [
    "# Define variables and create scatterplot\n",
    "age = np.concatenate( ( np.arange(3, 10), np.arange(11,13), np.arange(14,18) ), axis=0 )\n",
    "wing_len = [1.4, 1.5, 2.2, 2.4, 3.1, 3.2, 3.2, 3.9, 4.1, 4.7, 4.5, 5.2, 5.0]\n",
    "data = {\"Age\":age, \"Wing Length\":wing_len}\n",
    "ax = sbn.scatterplot(data=data, x=\"Age\", y=\"Wing Length\");\n",
    "\n",
    "# Calculate linear regression\n",
    "b_num = np.sum( np.multiply(age, wing_len ) ) - np.sum( age ) * np.sum( wing_len ) / len(age)\n",
    "b_denom = np.sum( np.square( age ) ) - np.sum( age )**2 / len( age )\n",
    "b = b_num / b_denom\n",
    "a = np.mean( wing_len ) - b * np.mean(age)\n",
    "\n",
    "# Create x-values and plot regression\n",
    "x_vals = np.linspace( np.min( age ), np.max( age ), 100 )\n",
    "reg_line = {\"x\":x_vals, 'Regression':x_vals * b + a }\n",
    "sbn.lineplot( data=reg_line, x=\"x\", y=\"Regression\", ax=ax, color='orange' );\n",
    "print(f\"We can reject the null hypothesis because b is > 0. (b={b:.4f})\")\n",
    "\n",
    "# Confidence Interval (NOT SURE ABOUT THIS ONE)\n",
    "mean_age = np.mean( age )\n",
    "# sem_age = sem( age )\n",
    "pop_mean = 0\n",
    "S = np.sqrt( np.sum( np.square( age - mean_age ) ) / ( len( age ) - 1 ) )\n",
    "t = ( mean_age - pop_mean ) / ( S / np.sqrt( len( age ) ) )\n",
    "\n",
    "check = st.t.interval(alpha=0.95, df=len(age)-1, loc=np.mean(age), scale=st.sem(age) )\n",
    "# print(check)\n",
    "# ci = b + \n",
    "\n",
    "# Coefficient of determination\n",
    "r2 = 1 - np.sum( np.square( wing_len - ( age * b + a ) ) ) / np.sum( np.square( age - mean_age ) )\n",
    "print(f\"The coefficient of deterimination is: {r2:.4f}\")\n",
    "\n",
    "# Pearson's R\n",
    "r = np.sum( np.multiply( age - mean_age, wing_len - np.mean( wing_len ) ) ) / np.sqrt( np.sum( np.square( age - mean_age ) ) * np.sum( np.square( wing_len - np.mean( wing_len ) ) ) )\n",
    "print(f\"The Pearson's R is: {r:.4f}\")\n"
   ]
  }
 ],
 "metadata": {
  "kernelspec": {
   "display_name": "Python 3 (ipykernel)",
   "language": "python",
   "name": "python3"
  },
  "language_info": {
   "codemirror_mode": {
    "name": "ipython",
    "version": 3
   },
   "file_extension": ".py",
   "mimetype": "text/x-python",
   "name": "python",
   "nbconvert_exporter": "python",
   "pygments_lexer": "ipython3",
   "version": "3.10.2"
  }
 },
 "nbformat": 4,
 "nbformat_minor": 5
}
