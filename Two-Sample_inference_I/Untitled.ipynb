{
 "cells": [
  {
   "cell_type": "code",
   "execution_count": 1,
   "id": "105fc99f",
   "metadata": {},
   "outputs": [],
   "source": [
    "import numpy as np\n",
    "import matplotlib.pyplot as plt\n",
    "import scipy.stats as st\n",
    "from statsmodels.stats.power import TTestIndPower"
   ]
  },
  {
   "cell_type": "code",
   "execution_count": 9,
   "id": "43a85705",
   "metadata": {},
   "outputs": [
    {
     "name": "stdout",
     "output_type": "stream",
     "text": [
      "2.8015852181129683\n",
      "2.8015852181129683\n",
      "minimum FPR = 0.2\n"
     ]
    }
   ],
   "source": [
    "p = 0.05\n",
    "power = 0.8\n",
    "N = int( 1e5 )\n",
    "\n",
    "mu_0 = 0\n",
    "sem_0 = 1\n",
    "effect_size_0 = st.norm.ppf( 1 - p/2 )\n",
    "\n",
    "effect_size_1 = effect_size_0 - st.norm.ppf( 1 - power )\n",
    "mu_1 = effect_size_0 * sem_0\n",
    "sem_1 = ( mu_1 - mu_0 ) / effect_size_1\n",
    "\n",
    "N = \n",
    "\n",
    "\n",
    "\n",
    "\n",
    "\n",
    "print( effect_size_1 )\n",
    "\n",
    "pi0 = 0.5\n",
    "beta = 0.8\n",
    "\n",
    "minFPR = ( p*pi0 ) / ( p * pi0 + ( 1 - beta ) * ( 1 - pi0 ) )\n",
    "print(f'minimum FPR = {minFPR:.1f}' )"
   ]
  },
  {
   "cell_type": "code",
   "execution_count": null,
   "id": "ce1e72af",
   "metadata": {},
   "outputs": [],
   "source": [
    "p = 0.05\n",
    "power = 0.8\n"
   ]
  }
 ],
 "metadata": {
  "kernelspec": {
   "display_name": "Python 3 (ipykernel)",
   "language": "python",
   "name": "python3"
  },
  "language_info": {
   "codemirror_mode": {
    "name": "ipython",
    "version": 3
   },
   "file_extension": ".py",
   "mimetype": "text/x-python",
   "name": "python",
   "nbconvert_exporter": "python",
   "pygments_lexer": "ipython3",
   "version": "3.10.2"
  }
 },
 "nbformat": 4,
 "nbformat_minor": 5
}
